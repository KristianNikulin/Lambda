{
 "cells": [
  {
   "cell_type": "code",
   "execution_count": 11,
   "id": "cf20450c",
   "metadata": {
    "scrolled": false
   },
   "outputs": [
    {
     "name": "stdout",
     "output_type": "stream",
     "text": [
      "10\n",
      "5\n",
      "[0. 0. 0. 0. 0. 1. 0. 0. 0. 0.]\n"
     ]
    }
   ],
   "source": [
    "# Задача 1\n",
    "import numpy as np\n",
    "\n",
    "n = int(input()) # размер Numpy вектора\n",
    "x = int(input()) # координата элемента вектора, который должен быть равен 1. Остальные должны быть равны 0\n",
    "# 0 <= x < n\n",
    "\n",
    "a = np.zeros(n)\n",
    "\n",
    "a[x] = 1\n",
    "\n",
    "print(a)"
   ]
  },
  {
   "cell_type": "code",
   "execution_count": 16,
   "id": "51935470",
   "metadata": {},
   "outputs": [
    {
     "name": "stdout",
     "output_type": "stream",
     "text": [
      "1\n",
      "10\n",
      "2\n",
      "[1 3 5 7 9]\n"
     ]
    }
   ],
   "source": [
    "# Задача 2\n",
    "import numpy as np\n",
    "\n",
    "# Создайте Numpy вектор, состоящий из чисел от n до m с шагом s\n",
    "\n",
    "n = int(input()) \n",
    "m = int(input())\n",
    "s = int(input())\n",
    "\n",
    "a = np.arange(n, m, s)\n",
    "\n",
    "print(a)"
   ]
  },
  {
   "cell_type": "code",
   "execution_count": 22,
   "id": "a1d6b16d",
   "metadata": {},
   "outputs": [
    {
     "name": "stdout",
     "output_type": "stream",
     "text": [
      "[[0 1 2]\n",
      " [3 4 5]\n",
      " [6 7 8]]\n"
     ]
    }
   ],
   "source": [
    "# Задача 3\n",
    "import numpy as np\n",
    "\n",
    "# Создайте матрицу 3х3 со значениями от 0 до 8. Значения нужно сгенерировать\n",
    "\n",
    "a = np.arange(0, 9).reshape(3, 3)\n",
    "\n",
    "print(a)"
   ]
  },
  {
   "cell_type": "code",
   "execution_count": 32,
   "id": "1b1be52d",
   "metadata": {},
   "outputs": [
    {
     "name": "stdout",
     "output_type": "stream",
     "text": [
      "[[-1.07734197  1.36909538 -0.33909084 -1.41921066]\n",
      " [ 0.23972836 -1.33461276 -1.10283651 -0.50402716]\n",
      " [-0.71510125  1.08994543 -0.72406336  0.48173952]\n",
      " [ 1.59403071 -0.25769097 -0.26082558  1.03322369]]\n",
      "\n",
      "Максимальное в первой: 1.3690953843936424\n",
      "Минимальное во второй: -1.334612759684321\n",
      "Среднее в третьей: 0.033130086834929504\n",
      "Сумма в четвертой: 2.1087378560630925\n"
     ]
    }
   ],
   "source": [
    "# Задача 4\n",
    "import numpy as np\n",
    "\n",
    "# Создайте матрицу 4х4 со случайными значениями\n",
    "#Найдите максимальное значение первой строки, минимальное - второй, среднее - третьей, сумму - четвертой\n",
    "\n",
    "a = np.random.normal(size = 16).reshape(4, 4)\n",
    "\n",
    "maxx = max(a[0])\n",
    "minx = min(a[1])\n",
    "sr = (a[2][0] + a[2][1] + a[2][2] + a[2][3]) / 4\n",
    "summ = a[3][0] + a[3][1] + a[3][2] + a[3][3]\n",
    "\n",
    "print(a)\n",
    "print()\n",
    "print(\"Максимальное в первой:\", maxx)\n",
    "print(\"Минимальное во второй:\", minx)\n",
    "print(\"Среднее в третьей:\", sr)\n",
    "print(\"Сумма в четвертой:\", summ)"
   ]
  },
  {
   "cell_type": "code",
   "execution_count": 31,
   "id": "71809120",
   "metadata": {},
   "outputs": [
    {
     "name": "stdout",
     "output_type": "stream",
     "text": [
      "[[5. 0. 0. 0. 0.]\n",
      " [0. 5. 0. 0. 0.]\n",
      " [0. 0. 5. 0. 0.]\n",
      " [0. 0. 0. 5. 0.]\n",
      " [0. 0. 0. 0. 5.]]\n",
      "\n",
      "[5. 5. 5. 5. 5.]\n"
     ]
    }
   ],
   "source": [
    "# Задача 5\n",
    "import numpy as np\n",
    "\n",
    "# Создайте диагональную матрицу 5х5, все ненулевые элементы равны 5\n",
    "\n",
    "a = np.zeros(25).reshape(5, 5)\n",
    "\n",
    "for i in range(0, 5):\n",
    "    a[i][i] = 5\n",
    "\n",
    "diagonal = np.diag(a)\n",
    "\n",
    "print(a)\n",
    "print()\n",
    "print(diagonal)"
   ]
  },
  {
   "cell_type": "code",
   "execution_count": 57,
   "id": "982089ca",
   "metadata": {},
   "outputs": [
    {
     "name": "stdout",
     "output_type": "stream",
     "text": [
      "2.1908103856748333\n",
      "\n"
     ]
    }
   ],
   "source": [
    "# Задача 6\n",
    "import numpy as np\n",
    "\n",
    "# Создайте Numpy массив случайных чисел размерности 6х6х6 и найдите максимальное значение среди всех элементов\n",
    "\n",
    "a = np.random.normal(size = 216).reshape(6, 6, 6)\n",
    "\n",
    "a_simple = a.flatten() # a.ravel ???\n",
    "maxx = max(a_simple)\n",
    "\n",
    "print(maxx)\n",
    "print()\n",
    "#print(a)"
   ]
  },
  {
   "cell_type": "code",
   "execution_count": 126,
   "id": "ab90f3fa",
   "metadata": {},
   "outputs": [
    {
     "name": "stdout",
     "output_type": "stream",
     "text": [
      "[[9 3]\n",
      " [6 2]\n",
      " [6 5]]\n",
      "\n",
      "[[2 2]\n",
      " [3 2]]\n",
      "\n",
      "[[27 24]\n",
      " [18 16]\n",
      " [27 22]]\n",
      "\n",
      "[[27 18 27]\n",
      " [24 16 22]]\n"
     ]
    }
   ],
   "source": [
    "# Задача 7\n",
    "import numpy as np\n",
    "\n",
    "# Напишите функцию, которая принимает на вход 2 Numpy матрицы, проверяет, можно ли их перемножить, \n",
    "# и если можно - то перемножает и возвращает транспонированную результирующую матрицу\n",
    "l = [2, 3]\n",
    "\n",
    "x = np.random.choice(l)\n",
    "y = np.random.choice(l)\n",
    "a = np.random.randint(0, 10, size = (x * y)).reshape(y, x) # матрица А\n",
    "print(a)\n",
    "print()\n",
    "\n",
    "z = np.random.choice(l)\n",
    "w = np.random.choice(l)\n",
    "b = np.random.randint(0, 10, size = (z * w)).reshape(w, z) # матрица Б\n",
    "print(b)\n",
    "print()\n",
    "\n",
    "# длина первой = высоте второй ПЕРЕМНОЖАЕМ !\n",
    "if x == w:\n",
    "    k = a @ b\n",
    "    print(k.T)"
   ]
  },
  {
   "cell_type": "code",
   "execution_count": 160,
   "id": "09c79ad5",
   "metadata": {
    "scrolled": true
   },
   "outputs": [
    {
     "ename": "AttributeError",
     "evalue": "module 'matplotlib.pyplot' has no attribute 'zlabel'",
     "output_type": "error",
     "traceback": [
      "\u001b[1;31m---------------------------------------------------------------------------\u001b[0m",
      "\u001b[1;31mAttributeError\u001b[0m                            Traceback (most recent call last)",
      "\u001b[1;32m<ipython-input-160-16a19722b074>\u001b[0m in \u001b[0;36m<module>\u001b[1;34m\u001b[0m\n\u001b[0;32m     16\u001b[0m \u001b[0mplt\u001b[0m\u001b[1;33m.\u001b[0m\u001b[0mxlabel\u001b[0m\u001b[1;33m(\u001b[0m\u001b[1;34m\"X\"\u001b[0m\u001b[1;33m)\u001b[0m\u001b[1;33m\u001b[0m\u001b[1;33m\u001b[0m\u001b[0m\n\u001b[0;32m     17\u001b[0m \u001b[0mplt\u001b[0m\u001b[1;33m.\u001b[0m\u001b[0mylabel\u001b[0m\u001b[1;33m(\u001b[0m\u001b[1;34m\"Y\"\u001b[0m\u001b[1;33m)\u001b[0m\u001b[1;33m\u001b[0m\u001b[1;33m\u001b[0m\u001b[0m\n\u001b[1;32m---> 18\u001b[1;33m \u001b[0mplt\u001b[0m\u001b[1;33m.\u001b[0m\u001b[0mzlabel\u001b[0m\u001b[1;33m(\u001b[0m\u001b[1;34m\"Z\"\u001b[0m\u001b[1;33m)\u001b[0m\u001b[1;33m\u001b[0m\u001b[1;33m\u001b[0m\u001b[0m\n\u001b[0m\u001b[0;32m     19\u001b[0m \u001b[1;33m\u001b[0m\u001b[0m\n\u001b[0;32m     20\u001b[0m \u001b[1;33m\u001b[0m\u001b[0m\n",
      "\u001b[1;31mAttributeError\u001b[0m: module 'matplotlib.pyplot' has no attribute 'zlabel'"
     ]
    },
    {
     "data": {
      "image/png": "[encoded data removed]",
      "text/plain": [
       "<Figure size 432x288 with 1 Axes>"
      ]
     },
     "metadata": {
      "needs_background": "light"
     },
     "output_type": "display_data"
    }
   ],
   "source": [
    "# Задача 8\n",
    "import numpy as np\n",
    "import matplotlib.pyplot as plt\n",
    "\n",
    "# Дана функция f(x1, x2) = x1**2 + 2*x2**2 + e**(x1+x2)\n",
    "# Найдите минимум данной функции, завершив вычисления при погрешности e = 0.5,\n",
    "# выбрав в качестве начального приблежения точку (0, 0) и коэффициент шага H = 0.1\n",
    "\n",
    "x = np.linspace(-5, 2, 100)\n",
    "y = np.linspace(-5, 2, 100)\n",
    "z = np.linspace(-5, 2, 100)\n",
    "\n",
    "plt.plot(x, y, z)                # НЕ РАБОТАЕТ :/\n",
    "\n",
    "\n",
    "plt.xlabel(\"X\")\n",
    "plt.ylabel(\"Y\")\n",
    "plt.zlabel(\"Z\")\n",
    "\n",
    "\n",
    "\n",
    "\n",
    "\n",
    "\n",
    "\n",
    "\n",
    "\n"
   ]
  },
  {
   "cell_type": "code",
   "execution_count": null,
   "id": "a6ab07ae",
   "metadata": {},
   "outputs": [],
   "source": []
  }
 ],
 "metadata": {
  "kernelspec": {
   "display_name": "Python 3",
   "language": "python",
   "name": "python3"
  },
  "language_info": {
   "codemirror_mode": {
    "name": "ipython",
    "version": 3
   },
   "file_extension": ".py",
   "mimetype": "text/x-python",
   "name": "python",
   "nbconvert_exporter": "python",
   "pygments_lexer": "ipython3",
   "version": "3.8.8"
  }
 },
 "nbformat": 4,
 "nbformat_minor": 5
}
